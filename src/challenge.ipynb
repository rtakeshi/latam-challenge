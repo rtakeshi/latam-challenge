{
 "cells": [
  {
   "cell_type": "markdown",
   "metadata": {},
   "source": [
    "En este archivo puedes escribir lo que estimes conveniente. Te recomendamos detallar tu solución y todas las suposiciones que estás considerando. Aquí puedes ejecutar las funciones que definiste en los otros archivos de la carpeta src, medir el tiempo, memoria, etc."
   ]
  },
  {
   "cell_type": "code",
   "execution_count": 4,
   "metadata": {},
   "outputs": [],
   "source": [
    "file_path = \"../data/raw/farmers-protest-tweets-2021-2-4.json\"\n"
   ]
  },
  {
   "cell_type": "markdown",
   "metadata": {},
   "source": [
    "### SparkSession builder and file read"
   ]
  },
  {
   "cell_type": "code",
   "execution_count": 5,
   "metadata": {},
   "outputs": [],
   "source": [
    "from pyspark.sql import SparkSession"
   ]
  },
  {
   "cell_type": "code",
   "execution_count": 6,
   "metadata": {},
   "outputs": [
    {
     "name": "stderr",
     "output_type": "stream",
     "text": [
      "Setting default log level to \"WARN\".\n",
      "To adjust logging level use sc.setLogLevel(newLevel). For SparkR, use setLogLevel(newLevel).\n",
      "23/11/03 12:00:16 WARN NativeCodeLoader: Unable to load native-hadoop library for your platform... using builtin-java classes where applicable\n",
      "23/11/03 12:00:17 WARN Utils: Service 'SparkUI' could not bind on port 4040. Attempting port 4041.\n"
     ]
    }
   ],
   "source": [
    "spark = SparkSession.builder.appName(\"FarmersProtestTweets\").getOrCreate()"
   ]
  },
  {
   "cell_type": "code",
   "execution_count": 7,
   "metadata": {},
   "outputs": [
    {
     "name": "stderr",
     "output_type": "stream",
     "text": [
      "                                                                                \r"
     ]
    }
   ],
   "source": [
    "df = spark.read.json(file_path)"
   ]
  },
  {
   "cell_type": "markdown",
   "metadata": {},
   "source": [
    "### Dataframe print schema and content"
   ]
  },
  {
   "cell_type": "code",
   "execution_count": 8,
   "metadata": {},
   "outputs": [
    {
     "name": "stdout",
     "output_type": "stream",
     "text": [
      "root\n",
      " |-- content: string (nullable = true)\n",
      " |-- conversationId: long (nullable = true)\n",
      " |-- date: string (nullable = true)\n",
      " |-- id: long (nullable = true)\n",
      " |-- lang: string (nullable = true)\n",
      " |-- likeCount: long (nullable = true)\n",
      " |-- media: array (nullable = true)\n",
      " |    |-- element: struct (containsNull = true)\n",
      " |    |    |-- duration: double (nullable = true)\n",
      " |    |    |-- fullUrl: string (nullable = true)\n",
      " |    |    |-- previewUrl: string (nullable = true)\n",
      " |    |    |-- thumbnailUrl: string (nullable = true)\n",
      " |    |    |-- type: string (nullable = true)\n",
      " |    |    |-- variants: array (nullable = true)\n",
      " |    |    |    |-- element: struct (containsNull = true)\n",
      " |    |    |    |    |-- bitrate: long (nullable = true)\n",
      " |    |    |    |    |-- contentType: string (nullable = true)\n",
      " |    |    |    |    |-- url: string (nullable = true)\n",
      " |-- mentionedUsers: array (nullable = true)\n",
      " |    |-- element: struct (containsNull = true)\n",
      " |    |    |-- created: string (nullable = true)\n",
      " |    |    |-- description: string (nullable = true)\n",
      " |    |    |-- descriptionUrls: string (nullable = true)\n",
      " |    |    |-- displayname: string (nullable = true)\n",
      " |    |    |-- favouritesCount: string (nullable = true)\n",
      " |    |    |-- followersCount: string (nullable = true)\n",
      " |    |    |-- friendsCount: string (nullable = true)\n",
      " |    |    |-- id: long (nullable = true)\n",
      " |    |    |-- linkTcourl: string (nullable = true)\n",
      " |    |    |-- linkUrl: string (nullable = true)\n",
      " |    |    |-- listedCount: string (nullable = true)\n",
      " |    |    |-- location: string (nullable = true)\n",
      " |    |    |-- mediaCount: string (nullable = true)\n",
      " |    |    |-- profileBannerUrl: string (nullable = true)\n",
      " |    |    |-- profileImageUrl: string (nullable = true)\n",
      " |    |    |-- protected: string (nullable = true)\n",
      " |    |    |-- rawDescription: string (nullable = true)\n",
      " |    |    |-- statusesCount: string (nullable = true)\n",
      " |    |    |-- url: string (nullable = true)\n",
      " |    |    |-- username: string (nullable = true)\n",
      " |    |    |-- verified: string (nullable = true)\n",
      " |-- outlinks: array (nullable = true)\n",
      " |    |-- element: string (containsNull = true)\n",
      " |-- quoteCount: long (nullable = true)\n",
      " |-- quotedTweet: struct (nullable = true)\n",
      " |    |-- content: string (nullable = true)\n",
      " |    |-- conversationId: long (nullable = true)\n",
      " |    |-- date: string (nullable = true)\n",
      " |    |-- id: long (nullable = true)\n",
      " |    |-- lang: string (nullable = true)\n",
      " |    |-- likeCount: long (nullable = true)\n",
      " |    |-- media: array (nullable = true)\n",
      " |    |    |-- element: struct (containsNull = true)\n",
      " |    |    |    |-- duration: double (nullable = true)\n",
      " |    |    |    |-- fullUrl: string (nullable = true)\n",
      " |    |    |    |-- previewUrl: string (nullable = true)\n",
      " |    |    |    |-- thumbnailUrl: string (nullable = true)\n",
      " |    |    |    |-- type: string (nullable = true)\n",
      " |    |    |    |-- variants: array (nullable = true)\n",
      " |    |    |    |    |-- element: struct (containsNull = true)\n",
      " |    |    |    |    |    |-- bitrate: long (nullable = true)\n",
      " |    |    |    |    |    |-- contentType: string (nullable = true)\n",
      " |    |    |    |    |    |-- url: string (nullable = true)\n",
      " |    |-- mentionedUsers: array (nullable = true)\n",
      " |    |    |-- element: struct (containsNull = true)\n",
      " |    |    |    |-- created: string (nullable = true)\n",
      " |    |    |    |-- description: string (nullable = true)\n",
      " |    |    |    |-- descriptionUrls: string (nullable = true)\n",
      " |    |    |    |-- displayname: string (nullable = true)\n",
      " |    |    |    |-- favouritesCount: string (nullable = true)\n",
      " |    |    |    |-- followersCount: string (nullable = true)\n",
      " |    |    |    |-- friendsCount: string (nullable = true)\n",
      " |    |    |    |-- id: long (nullable = true)\n",
      " |    |    |    |-- linkTcourl: string (nullable = true)\n",
      " |    |    |    |-- linkUrl: string (nullable = true)\n",
      " |    |    |    |-- listedCount: string (nullable = true)\n",
      " |    |    |    |-- location: string (nullable = true)\n",
      " |    |    |    |-- mediaCount: string (nullable = true)\n",
      " |    |    |    |-- profileBannerUrl: string (nullable = true)\n",
      " |    |    |    |-- profileImageUrl: string (nullable = true)\n",
      " |    |    |    |-- protected: string (nullable = true)\n",
      " |    |    |    |-- rawDescription: string (nullable = true)\n",
      " |    |    |    |-- statusesCount: string (nullable = true)\n",
      " |    |    |    |-- url: string (nullable = true)\n",
      " |    |    |    |-- username: string (nullable = true)\n",
      " |    |    |    |-- verified: string (nullable = true)\n",
      " |    |-- outlinks: array (nullable = true)\n",
      " |    |    |-- element: string (containsNull = true)\n",
      " |    |-- quoteCount: long (nullable = true)\n",
      " |    |-- quotedTweet: struct (nullable = true)\n",
      " |    |    |-- content: string (nullable = true)\n",
      " |    |    |-- conversationId: long (nullable = true)\n",
      " |    |    |-- date: string (nullable = true)\n",
      " |    |    |-- id: long (nullable = true)\n",
      " |    |    |-- lang: string (nullable = true)\n",
      " |    |    |-- likeCount: long (nullable = true)\n",
      " |    |    |-- media: array (nullable = true)\n",
      " |    |    |    |-- element: struct (containsNull = true)\n",
      " |    |    |    |    |-- duration: double (nullable = true)\n",
      " |    |    |    |    |-- fullUrl: string (nullable = true)\n",
      " |    |    |    |    |-- previewUrl: string (nullable = true)\n",
      " |    |    |    |    |-- thumbnailUrl: string (nullable = true)\n",
      " |    |    |    |    |-- type: string (nullable = true)\n",
      " |    |    |    |    |-- variants: array (nullable = true)\n",
      " |    |    |    |    |    |-- element: struct (containsNull = true)\n",
      " |    |    |    |    |    |    |-- bitrate: long (nullable = true)\n",
      " |    |    |    |    |    |    |-- contentType: string (nullable = true)\n",
      " |    |    |    |    |    |    |-- url: string (nullable = true)\n",
      " |    |    |-- mentionedUsers: array (nullable = true)\n",
      " |    |    |    |-- element: struct (containsNull = true)\n",
      " |    |    |    |    |-- created: string (nullable = true)\n",
      " |    |    |    |    |-- description: string (nullable = true)\n",
      " |    |    |    |    |-- descriptionUrls: string (nullable = true)\n",
      " |    |    |    |    |-- displayname: string (nullable = true)\n",
      " |    |    |    |    |-- favouritesCount: string (nullable = true)\n",
      " |    |    |    |    |-- followersCount: string (nullable = true)\n",
      " |    |    |    |    |-- friendsCount: string (nullable = true)\n",
      " |    |    |    |    |-- id: long (nullable = true)\n",
      " |    |    |    |    |-- linkTcourl: string (nullable = true)\n",
      " |    |    |    |    |-- linkUrl: string (nullable = true)\n",
      " |    |    |    |    |-- listedCount: string (nullable = true)\n",
      " |    |    |    |    |-- location: string (nullable = true)\n",
      " |    |    |    |    |-- mediaCount: string (nullable = true)\n",
      " |    |    |    |    |-- profileBannerUrl: string (nullable = true)\n",
      " |    |    |    |    |-- profileImageUrl: string (nullable = true)\n",
      " |    |    |    |    |-- protected: string (nullable = true)\n",
      " |    |    |    |    |-- rawDescription: string (nullable = true)\n",
      " |    |    |    |    |-- statusesCount: string (nullable = true)\n",
      " |    |    |    |    |-- url: string (nullable = true)\n",
      " |    |    |    |    |-- username: string (nullable = true)\n",
      " |    |    |    |    |-- verified: string (nullable = true)\n",
      " |    |    |-- outlinks: array (nullable = true)\n",
      " |    |    |    |-- element: string (containsNull = true)\n",
      " |    |    |-- quoteCount: long (nullable = true)\n",
      " |    |    |-- quotedTweet: struct (nullable = true)\n",
      " |    |    |    |-- content: string (nullable = true)\n",
      " |    |    |    |-- conversationId: long (nullable = true)\n",
      " |    |    |    |-- date: string (nullable = true)\n",
      " |    |    |    |-- id: long (nullable = true)\n",
      " |    |    |    |-- lang: string (nullable = true)\n",
      " |    |    |    |-- likeCount: long (nullable = true)\n",
      " |    |    |    |-- media: array (nullable = true)\n",
      " |    |    |    |    |-- element: struct (containsNull = true)\n",
      " |    |    |    |    |    |-- duration: double (nullable = true)\n",
      " |    |    |    |    |    |-- fullUrl: string (nullable = true)\n",
      " |    |    |    |    |    |-- previewUrl: string (nullable = true)\n",
      " |    |    |    |    |    |-- thumbnailUrl: string (nullable = true)\n",
      " |    |    |    |    |    |-- type: string (nullable = true)\n",
      " |    |    |    |    |    |-- variants: array (nullable = true)\n",
      " |    |    |    |    |    |    |-- element: struct (containsNull = true)\n",
      " |    |    |    |    |    |    |    |-- bitrate: long (nullable = true)\n",
      " |    |    |    |    |    |    |    |-- contentType: string (nullable = true)\n",
      " |    |    |    |    |    |    |    |-- url: string (nullable = true)\n",
      " |    |    |    |-- mentionedUsers: array (nullable = true)\n",
      " |    |    |    |    |-- element: struct (containsNull = true)\n",
      " |    |    |    |    |    |-- created: string (nullable = true)\n",
      " |    |    |    |    |    |-- description: string (nullable = true)\n",
      " |    |    |    |    |    |-- descriptionUrls: string (nullable = true)\n",
      " |    |    |    |    |    |-- displayname: string (nullable = true)\n",
      " |    |    |    |    |    |-- favouritesCount: string (nullable = true)\n",
      " |    |    |    |    |    |-- followersCount: string (nullable = true)\n",
      " |    |    |    |    |    |-- friendsCount: string (nullable = true)\n",
      " |    |    |    |    |    |-- id: long (nullable = true)\n",
      " |    |    |    |    |    |-- linkTcourl: string (nullable = true)\n",
      " |    |    |    |    |    |-- linkUrl: string (nullable = true)\n",
      " |    |    |    |    |    |-- listedCount: string (nullable = true)\n",
      " |    |    |    |    |    |-- location: string (nullable = true)\n",
      " |    |    |    |    |    |-- mediaCount: string (nullable = true)\n",
      " |    |    |    |    |    |-- profileBannerUrl: string (nullable = true)\n",
      " |    |    |    |    |    |-- profileImageUrl: string (nullable = true)\n",
      " |    |    |    |    |    |-- protected: string (nullable = true)\n",
      " |    |    |    |    |    |-- rawDescription: string (nullable = true)\n",
      " |    |    |    |    |    |-- statusesCount: string (nullable = true)\n",
      " |    |    |    |    |    |-- url: string (nullable = true)\n",
      " |    |    |    |    |    |-- username: string (nullable = true)\n",
      " |    |    |    |    |    |-- verified: string (nullable = true)\n",
      " |    |    |    |-- outlinks: array (nullable = true)\n",
      " |    |    |    |    |-- element: string (containsNull = true)\n",
      " |    |    |    |-- quoteCount: long (nullable = true)\n",
      " |    |    |    |-- quotedTweet: string (nullable = true)\n",
      " |    |    |    |-- renderedContent: string (nullable = true)\n",
      " |    |    |    |-- replyCount: long (nullable = true)\n",
      " |    |    |    |-- retweetCount: long (nullable = true)\n",
      " |    |    |    |-- retweetedTweet: string (nullable = true)\n",
      " |    |    |    |-- source: string (nullable = true)\n",
      " |    |    |    |-- sourceLabel: string (nullable = true)\n",
      " |    |    |    |-- sourceUrl: string (nullable = true)\n",
      " |    |    |    |-- tcooutlinks: array (nullable = true)\n",
      " |    |    |    |    |-- element: string (containsNull = true)\n",
      " |    |    |    |-- url: string (nullable = true)\n",
      " |    |    |    |-- user: struct (nullable = true)\n",
      " |    |    |    |    |-- created: string (nullable = true)\n",
      " |    |    |    |    |-- description: string (nullable = true)\n",
      " |    |    |    |    |-- descriptionUrls: array (nullable = true)\n",
      " |    |    |    |    |    |-- element: string (containsNull = true)\n",
      " |    |    |    |    |-- displayname: string (nullable = true)\n",
      " |    |    |    |    |-- favouritesCount: long (nullable = true)\n",
      " |    |    |    |    |-- followersCount: long (nullable = true)\n",
      " |    |    |    |    |-- friendsCount: long (nullable = true)\n",
      " |    |    |    |    |-- id: long (nullable = true)\n",
      " |    |    |    |    |-- linkTcourl: string (nullable = true)\n",
      " |    |    |    |    |-- linkUrl: string (nullable = true)\n",
      " |    |    |    |    |-- listedCount: long (nullable = true)\n",
      " |    |    |    |    |-- location: string (nullable = true)\n",
      " |    |    |    |    |-- mediaCount: long (nullable = true)\n",
      " |    |    |    |    |-- profileBannerUrl: string (nullable = true)\n",
      " |    |    |    |    |-- profileImageUrl: string (nullable = true)\n",
      " |    |    |    |    |-- protected: boolean (nullable = true)\n",
      " |    |    |    |    |-- rawDescription: string (nullable = true)\n",
      " |    |    |    |    |-- statusesCount: long (nullable = true)\n",
      " |    |    |    |    |-- url: string (nullable = true)\n",
      " |    |    |    |    |-- username: string (nullable = true)\n",
      " |    |    |    |    |-- verified: boolean (nullable = true)\n",
      " |    |    |-- renderedContent: string (nullable = true)\n",
      " |    |    |-- replyCount: long (nullable = true)\n",
      " |    |    |-- retweetCount: long (nullable = true)\n",
      " |    |    |-- retweetedTweet: string (nullable = true)\n",
      " |    |    |-- source: string (nullable = true)\n",
      " |    |    |-- sourceLabel: string (nullable = true)\n",
      " |    |    |-- sourceUrl: string (nullable = true)\n",
      " |    |    |-- tcooutlinks: array (nullable = true)\n",
      " |    |    |    |-- element: string (containsNull = true)\n",
      " |    |    |-- url: string (nullable = true)\n",
      " |    |    |-- user: struct (nullable = true)\n",
      " |    |    |    |-- created: string (nullable = true)\n",
      " |    |    |    |-- description: string (nullable = true)\n",
      " |    |    |    |-- descriptionUrls: array (nullable = true)\n",
      " |    |    |    |    |-- element: struct (containsNull = true)\n",
      " |    |    |    |    |    |-- indices: array (nullable = true)\n",
      " |    |    |    |    |    |    |-- element: long (containsNull = true)\n",
      " |    |    |    |    |    |-- tcourl: string (nullable = true)\n",
      " |    |    |    |    |    |-- text: string (nullable = true)\n",
      " |    |    |    |    |    |-- url: string (nullable = true)\n",
      " |    |    |    |-- displayname: string (nullable = true)\n",
      " |    |    |    |-- favouritesCount: long (nullable = true)\n",
      " |    |    |    |-- followersCount: long (nullable = true)\n",
      " |    |    |    |-- friendsCount: long (nullable = true)\n",
      " |    |    |    |-- id: long (nullable = true)\n",
      " |    |    |    |-- linkTcourl: string (nullable = true)\n",
      " |    |    |    |-- linkUrl: string (nullable = true)\n",
      " |    |    |    |-- listedCount: long (nullable = true)\n",
      " |    |    |    |-- location: string (nullable = true)\n",
      " |    |    |    |-- mediaCount: long (nullable = true)\n",
      " |    |    |    |-- profileBannerUrl: string (nullable = true)\n",
      " |    |    |    |-- profileImageUrl: string (nullable = true)\n",
      " |    |    |    |-- protected: boolean (nullable = true)\n",
      " |    |    |    |-- rawDescription: string (nullable = true)\n",
      " |    |    |    |-- statusesCount: long (nullable = true)\n",
      " |    |    |    |-- url: string (nullable = true)\n",
      " |    |    |    |-- username: string (nullable = true)\n",
      " |    |    |    |-- verified: boolean (nullable = true)\n",
      " |    |-- renderedContent: string (nullable = true)\n",
      " |    |-- replyCount: long (nullable = true)\n",
      " |    |-- retweetCount: long (nullable = true)\n",
      " |    |-- retweetedTweet: string (nullable = true)\n",
      " |    |-- source: string (nullable = true)\n",
      " |    |-- sourceLabel: string (nullable = true)\n",
      " |    |-- sourceUrl: string (nullable = true)\n",
      " |    |-- tcooutlinks: array (nullable = true)\n",
      " |    |    |-- element: string (containsNull = true)\n",
      " |    |-- url: string (nullable = true)\n",
      " |    |-- user: struct (nullable = true)\n",
      " |    |    |-- created: string (nullable = true)\n",
      " |    |    |-- description: string (nullable = true)\n",
      " |    |    |-- descriptionUrls: array (nullable = true)\n",
      " |    |    |    |-- element: struct (containsNull = true)\n",
      " |    |    |    |    |-- indices: array (nullable = true)\n",
      " |    |    |    |    |    |-- element: long (containsNull = true)\n",
      " |    |    |    |    |-- tcourl: string (nullable = true)\n",
      " |    |    |    |    |-- text: string (nullable = true)\n",
      " |    |    |    |    |-- url: string (nullable = true)\n",
      " |    |    |-- displayname: string (nullable = true)\n",
      " |    |    |-- favouritesCount: long (nullable = true)\n",
      " |    |    |-- followersCount: long (nullable = true)\n",
      " |    |    |-- friendsCount: long (nullable = true)\n",
      " |    |    |-- id: long (nullable = true)\n",
      " |    |    |-- linkTcourl: string (nullable = true)\n",
      " |    |    |-- linkUrl: string (nullable = true)\n",
      " |    |    |-- listedCount: long (nullable = true)\n",
      " |    |    |-- location: string (nullable = true)\n",
      " |    |    |-- mediaCount: long (nullable = true)\n",
      " |    |    |-- profileBannerUrl: string (nullable = true)\n",
      " |    |    |-- profileImageUrl: string (nullable = true)\n",
      " |    |    |-- protected: boolean (nullable = true)\n",
      " |    |    |-- rawDescription: string (nullable = true)\n",
      " |    |    |-- statusesCount: long (nullable = true)\n",
      " |    |    |-- url: string (nullable = true)\n",
      " |    |    |-- username: string (nullable = true)\n",
      " |    |    |-- verified: boolean (nullable = true)\n",
      " |-- renderedContent: string (nullable = true)\n",
      " |-- replyCount: long (nullable = true)\n",
      " |-- retweetCount: long (nullable = true)\n",
      " |-- retweetedTweet: string (nullable = true)\n",
      " |-- source: string (nullable = true)\n",
      " |-- sourceLabel: string (nullable = true)\n",
      " |-- sourceUrl: string (nullable = true)\n",
      " |-- tcooutlinks: array (nullable = true)\n",
      " |    |-- element: string (containsNull = true)\n",
      " |-- url: string (nullable = true)\n",
      " |-- user: struct (nullable = true)\n",
      " |    |-- created: string (nullable = true)\n",
      " |    |-- description: string (nullable = true)\n",
      " |    |-- descriptionUrls: array (nullable = true)\n",
      " |    |    |-- element: struct (containsNull = true)\n",
      " |    |    |    |-- indices: array (nullable = true)\n",
      " |    |    |    |    |-- element: long (containsNull = true)\n",
      " |    |    |    |-- tcourl: string (nullable = true)\n",
      " |    |    |    |-- text: string (nullable = true)\n",
      " |    |    |    |-- url: string (nullable = true)\n",
      " |    |-- displayname: string (nullable = true)\n",
      " |    |-- favouritesCount: long (nullable = true)\n",
      " |    |-- followersCount: long (nullable = true)\n",
      " |    |-- friendsCount: long (nullable = true)\n",
      " |    |-- id: long (nullable = true)\n",
      " |    |-- linkTcourl: string (nullable = true)\n",
      " |    |-- linkUrl: string (nullable = true)\n",
      " |    |-- listedCount: long (nullable = true)\n",
      " |    |-- location: string (nullable = true)\n",
      " |    |-- mediaCount: long (nullable = true)\n",
      " |    |-- profileBannerUrl: string (nullable = true)\n",
      " |    |-- profileImageUrl: string (nullable = true)\n",
      " |    |-- protected: boolean (nullable = true)\n",
      " |    |-- rawDescription: string (nullable = true)\n",
      " |    |-- statusesCount: long (nullable = true)\n",
      " |    |-- url: string (nullable = true)\n",
      " |    |-- username: string (nullable = true)\n",
      " |    |-- verified: boolean (nullable = true)\n",
      "\n"
     ]
    }
   ],
   "source": [
    "df.printSchema()"
   ]
  },
  {
   "cell_type": "code",
   "execution_count": 9,
   "metadata": {},
   "outputs": [
    {
     "name": "stderr",
     "output_type": "stream",
     "text": [
      "                                                                                \r"
     ]
    },
    {
     "name": "stdout",
     "output_type": "stream",
     "text": [
      "+--------------------+-------------------+--------------------+-------------------+----+---------+--------------------+--------------------+--------------------+----------+--------------------+--------------------+----------+------------+--------------+--------------------+-------------------+--------------------+--------------------+--------------------+--------------------+\n",
      "|             content|     conversationId|                date|                 id|lang|likeCount|               media|      mentionedUsers|            outlinks|quoteCount|         quotedTweet|     renderedContent|replyCount|retweetCount|retweetedTweet|              source|        sourceLabel|           sourceUrl|         tcooutlinks|                 url|                user|\n",
      "+--------------------+-------------------+--------------------+-------------------+----+---------+--------------------+--------------------+--------------------+----------+--------------------+--------------------+----------+------------+--------------+--------------------+-------------------+--------------------+--------------------+--------------------+--------------------+\n",
      "|The world progres...|1364506249291784198|2021-02-24T09:23:...|1364506249291784198|  en|        0|                NULL|[{NULL, NULL, NUL...|[https://twitter....|         0|{This is what the...|The world progres...|         0|           0|          NULL|<a href=\"http://t...| Twitter for iPhone|http://twitter.co...|[https://t.co/es3...|https://twitter.c...|{2009-06-06T07:50...|\n",
      "|#FarmersProtest \\...|1364506237451313155|2021-02-24T09:23:...|1364506237451313155|  en|        0|[{139.934, NULL, ...|[{NULL, NULL, NUL...|                  []|         0|                NULL|#FarmersProtest \\...|         0|           0|          NULL|<a href=\"http://t...|Twitter for Android|http://twitter.co...|                  []|https://twitter.c...|{2021-01-29T09:58...|\n",
      "|ਪੈਟਰੋਲ ਦੀਆਂ ਕੀਮਤਾ...|1364506195453767680|2021-02-24T09:23:...|1364506195453767680|  pa|        0|                NULL|                NULL|                  []|         0|                NULL|ਪੈਟਰੋਲ ਦੀਆਂ ਕੀਮਤਾ...|         0|           0|          NULL|<a href=\"http://t...|Twitter for Android|http://twitter.co...|                  []|https://twitter.c...|{2012-01-27T17:30...|\n",
      "|@ReallySwara @roh...|1364350947099484160|2021-02-24T09:23:...|1364506167226032128|  en|        0|[{46.375, NULL, N...|[{NULL, NULL, NUL...|[https://youtu.be...|         0|                NULL|@ReallySwara @roh...|         0|           0|          NULL|<a href=\"https://...|    Twitter Web App|https://mobile.tw...|[https://t.co/wBP...|https://twitter.c...|{2010-04-28T03:12...|\n",
      "|#KisanEktaMorcha ...|1364506144002088963|2021-02-24T09:23:...|1364506144002088963| und|        0|[{NULL, https://p...|                NULL|                  []|         0|                NULL|#KisanEktaMorcha ...|         0|           0|          NULL|<a href=\"http://t...| Twitter for iPhone|http://twitter.co...|                  []|https://twitter.c...|{2021-02-08T14:35...|\n",
      "+--------------------+-------------------+--------------------+-------------------+----+---------+--------------------+--------------------+--------------------+----------+--------------------+--------------------+----------+------------+--------------+--------------------+-------------------+--------------------+--------------------+--------------------+--------------------+\n",
      "only showing top 5 rows\n",
      "\n"
     ]
    }
   ],
   "source": [
    "df.show(5)"
   ]
  },
  {
   "cell_type": "markdown",
   "metadata": {},
   "source": [
    "#### Creating Temp View for Data Exploration"
   ]
  },
  {
   "cell_type": "code",
   "execution_count": 10,
   "metadata": {},
   "outputs": [],
   "source": [
    "df.createOrReplaceTempView(\"farmers_protest\")"
   ]
  },
  {
   "cell_type": "markdown",
   "metadata": {},
   "source": [
    "### Exploring columns to be used in data curation"
   ]
  },
  {
   "cell_type": "code",
   "execution_count": 11,
   "metadata": {},
   "outputs": [
    {
     "name": "stdout",
     "output_type": "stream",
     "text": [
      "+--------------------+--------------------+\n",
      "|             content|      mentionedUsers|\n",
      "+--------------------+--------------------+\n",
      "|The world progres...|[{NULL, NULL, NUL...|\n",
      "|#FarmersProtest \\...|[{NULL, NULL, NUL...|\n",
      "|ਪੈਟਰੋਲ ਦੀਆਂ ਕੀਮਤਾ...|                NULL|\n",
      "|@ReallySwara @roh...|[{NULL, NULL, NUL...|\n",
      "|#KisanEktaMorcha ...|                NULL|\n",
      "|Jai jwaan jai kis...|                NULL|\n",
      "|     #FarmersProtest|                NULL|\n",
      "|#ModiDontSellFarm...|                NULL|\n",
      "|@mandeeppunia1 wa...|[{NULL, NULL, NUL...|\n",
      "|#FarmersProtest h...|                NULL|\n",
      "|கோதுமைப் பயிர்களை...|                NULL|\n",
      "|@mandeeppunia1 wa...|[{NULL, NULL, NUL...|\n",
      "|Another farmer, M...|                NULL|\n",
      "|Jai kissan #Farme...|                NULL|\n",
      "|#FarmersProtest h...|                NULL|\n",
      "|ਸਰਕਾਰੇ ਨੀ ਤੇਰੇ ਕੰ...|                NULL|\n",
      "|@akshaykumar Hi c...|[{NULL, NULL, NUL...|\n",
      "|#ModiDontSellFarm...|                NULL|\n",
      "|@taapsee watch fu...|[{NULL, NULL, NUL...|\n",
      "|#FarmersProtest h...|                NULL|\n",
      "+--------------------+--------------------+\n",
      "only showing top 20 rows\n",
      "\n"
     ]
    }
   ],
   "source": [
    "result = spark.sql(\"\"\"\n",
    "    SELECT\n",
    "        content,\n",
    "        mentionedUsers\n",
    "    FROM\n",
    "        farmers_protest\n",
    "\"\"\")\n",
    "\n",
    "result.show()"
   ]
  },
  {
   "cell_type": "markdown",
   "metadata": {},
   "source": [
    "#### Understanding data usage for challenge\n",
    "\n",
    "q1. Las top 10 fechas donde hay más tweets. Mencionar el usuario (username) que más publicaciones tiene por cada uno de esos días.\n",
    "\n",
    "**Columns: id, date, user.username**\n",
    "\n",
    "\n",
    "q2. Los top 10 emojis más usados con su respectivo conteo.\n",
    "\n",
    "**Columns: id, content**\n",
    "\n",
    "\n",
    "q3. El top 10 histórico de usuarios (username) más influyentes en función del conteo de las menciones (@) que registra cada uno de ellos. \n",
    "\n",
    "The \"mentionedUsers\" at the main tweet level appear to be filled with null values, necessitating the transformation of the content to retrieve the users.\n",
    "\n",
    "**Columns: id, content, user.username**"
   ]
  },
  {
   "cell_type": "code",
   "execution_count": 12,
   "metadata": {},
   "outputs": [
    {
     "name": "stdout",
     "output_type": "stream",
     "text": [
      "+-------------------+--------------------+--------------------+---------------+\n",
      "|                 id|                date|             content|       username|\n",
      "+-------------------+--------------------+--------------------+---------------+\n",
      "|1364506249291784198|2021-02-24T09:23:...|The world progres...|ArjunSinghPanam|\n",
      "|1364506237451313155|2021-02-24T09:23:...|#FarmersProtest \\...|     PrdeepNain|\n",
      "|1364506195453767680|2021-02-24T09:23:...|ਪੈਟਰੋਲ ਦੀਆਂ ਕੀਮਤਾ...| parmarmaninder|\n",
      "|1364506167226032128|2021-02-24T09:23:...|@ReallySwara @roh...|  anmoldhaliwal|\n",
      "|1364506144002088963|2021-02-24T09:23:...|#KisanEktaMorcha ...|     KotiaPreet|\n",
      "|1364506120497360896|2021-02-24T09:23:...|Jai jwaan jai kis...|      babli_708|\n",
      "|1364506076272496640|2021-02-24T09:22:...|     #FarmersProtest|Varinde17354019|\n",
      "|1364505995859423234|2021-02-24T09:22:...|#ModiDontSellFarm...|    BitnamSingh|\n",
      "|1364505991887347714|2021-02-24T09:22:...|@mandeeppunia1 wa...|  anmoldhaliwal|\n",
      "|1364505896576053248|2021-02-24T09:22:...|#FarmersProtest h...|      SatThiara|\n",
      "|1364505892612268032|2021-02-24T09:22:...|கோதுமைப் பயிர்களை...| PasumaiVikatan|\n",
      "|1364505813834989568|2021-02-24T09:21:...|@mandeeppunia1 wa...|  anmoldhaliwal|\n",
      "|1364505749359976448|2021-02-24T09:21:...|Another farmer, M...| ShariaActivist|\n",
      "|1364505737695739906|2021-02-24T09:21:...|Jai kissan #Farme...|      babli_708|\n",
      "|1364505706804744192|2021-02-24T09:21:...|#FarmersProtest h...|       Dallehal|\n",
      "|1364505702715154439|2021-02-24T09:21:...|ਸਰਕਾਰੇ ਨੀ ਤੇਰੇ ਕੰ...|KaurAma57668156|\n",
      "|1364505676375076867|2021-02-24T09:21:...|@akshaykumar Hi c...|KaurDosanjh1979|\n",
      "|1364505591641735170|2021-02-24T09:20:...|#ModiDontSellFarm...|ArjunSinghPanam|\n",
      "|1364505511073300481|2021-02-24T09:20:...|@taapsee watch fu...|  anmoldhaliwal|\n",
      "|1364505462419447810|2021-02-24T09:20:...|#FarmersProtest h...|    BitnamSingh|\n",
      "+-------------------+--------------------+--------------------+---------------+\n",
      "only showing top 20 rows\n",
      "\n"
     ]
    }
   ],
   "source": [
    "result = spark.sql(\"\"\"\n",
    "    SELECT\n",
    "        id,\n",
    "        date,\n",
    "        content,\n",
    "        user.username\n",
    "        \n",
    "    FROM\n",
    "        farmers_protest\n",
    "\"\"\")\n",
    "\n",
    "result.show()"
   ]
  },
  {
   "cell_type": "code",
   "execution_count": 13,
   "metadata": {},
   "outputs": [
    {
     "name": "stdout",
     "output_type": "stream",
     "text": [
      "root\n",
      " |-- id: long (nullable = true)\n",
      " |-- date: string (nullable = true)\n",
      " |-- content: string (nullable = true)\n",
      " |-- username: string (nullable = true)\n",
      "\n"
     ]
    }
   ],
   "source": [
    "result.printSchema()"
   ]
  },
  {
   "cell_type": "markdown",
   "metadata": {},
   "source": [
    "##### Checking null values in columns"
   ]
  },
  {
   "cell_type": "code",
   "execution_count": 14,
   "metadata": {},
   "outputs": [],
   "source": [
    "from pyspark.sql.functions import sum, when"
   ]
  },
  {
   "cell_type": "code",
   "execution_count": 15,
   "metadata": {},
   "outputs": [
    {
     "name": "stderr",
     "output_type": "stream",
     "text": [
      "[Stage 4:>                                                        (0 + 10) / 10]\r"
     ]
    },
    {
     "name": "stdout",
     "output_type": "stream",
     "text": [
      "+---+----+-------+--------+\n",
      "| id|date|content|username|\n",
      "+---+----+-------+--------+\n",
      "|  0|   0|      0|       0|\n",
      "+---+----+-------+--------+\n",
      "\n"
     ]
    },
    {
     "name": "stderr",
     "output_type": "stream",
     "text": [
      "                                                                                \r"
     ]
    }
   ],
   "source": [
    "null_counts = result.select([sum(when(result[col].isNull(), 1).otherwise(0)).alias(col) for col in result.columns])\n",
    "\n",
    "null_counts.show()"
   ]
  },
  {
   "cell_type": "markdown",
   "metadata": {},
   "source": [
    "Null values are not presented in the dataset"
   ]
  },
  {
   "cell_type": "markdown",
   "metadata": {},
   "source": [
    "##### Checking duplicated data by id"
   ]
  },
  {
   "cell_type": "code",
   "execution_count": 16,
   "metadata": {},
   "outputs": [],
   "source": [
    "duplicate_count = result.groupBy(\"id\").count()\n",
    "duplications = duplicate_count.filter(duplicate_count[\"count\"] > 1)"
   ]
  },
  {
   "cell_type": "code",
   "execution_count": 17,
   "metadata": {},
   "outputs": [
    {
     "name": "stderr",
     "output_type": "stream",
     "text": [
      "[Stage 7:>                                                        (0 + 10) / 10]\r"
     ]
    },
    {
     "name": "stdout",
     "output_type": "stream",
     "text": [
      "+---+-----+\n",
      "| id|count|\n",
      "+---+-----+\n",
      "+---+-----+\n",
      "\n"
     ]
    },
    {
     "name": "stderr",
     "output_type": "stream",
     "text": [
      "                                                                                \r"
     ]
    }
   ],
   "source": [
    "duplications.show()"
   ]
  },
  {
   "cell_type": "markdown",
   "metadata": {},
   "source": [
    "There are no duplications by id in the dataset"
   ]
  },
  {
   "cell_type": "markdown",
   "metadata": {},
   "source": [
    "# Challenge Solution"
   ]
  },
  {
   "cell_type": "markdown",
   "metadata": {},
   "source": [
    "For each question, I will utilize memory usage and execution time measurements.\n",
    "\n",
    "Memory_profiler: I will analyze each step of my code to understand possible refinements of memory usage during each stage of my data processing. To achieve this, I'll use the memory_profiler library to profile memory consumption at various points in my code. This will provide insights into memory-intensive operations that can be optimized.\n",
    "\n",
    "Time: To measure the execution time of my data processing, I'll use the datetime differences approach. In the Jupyter notebook, I will record the start and end times before and after the code execution and calculate the time difference. This will help me assess the performance of my code and identify areas that may benefit from time optimization."
   ]
  },
  {
   "cell_type": "markdown",
   "metadata": {},
   "source": [
    "##### General observations\n",
    "\n",
    "\n",
    "It is important to analyze the volume of your data to define what kind of memory usage you want to define in your SparkSession:\n",
    "\n",
    "```\n",
    "\n",
    "from pyspark.sql import SparkSession\n",
    "\n",
    "spark = SparkSession.builder \\\n",
    "    .appName(\"FarmersProtestTweets\") \\\n",
    "    .config(\"spark.executor.memory\", \"MEMORY ALOCATED\") \\\n",
    "    .config(\"spark.driver.memory\", \"MEMORY ALOCATED\") \\\n",
    "    .getOrCreate()\n",
    "```\n",
    "\n",
    "For this specific case, after the data transformation, we end up with a dataset of only 27 MB. In such cases, I prefer to let my SparkSession use the default memory allocation settings. However, for different scenarios, you can choose to persist your data on disk. This may slightly increase data processing time but reduce the demand on driver memory."
   ]
  },
  {
   "cell_type": "code",
   "execution_count": 18,
   "metadata": {},
   "outputs": [],
   "source": [
    "# Datetime to analyze execution time\n",
    "from datetime import datetime"
   ]
  },
  {
   "cell_type": "code",
   "execution_count": 19,
   "metadata": {},
   "outputs": [],
   "source": [
    "STAGING_DATA_PATH = \"../data/staging/farmers-protest-tweets-staging.csv\""
   ]
  },
  {
   "cell_type": "code",
   "execution_count": 20,
   "metadata": {},
   "outputs": [],
   "source": [
    "from pyspark.sql import SparkSession"
   ]
  },
  {
   "cell_type": "code",
   "execution_count": 43,
   "metadata": {},
   "outputs": [
    {
     "ename": "ConnectionRefusedError",
     "evalue": "[Errno 61] Connection refused",
     "output_type": "error",
     "traceback": [
      "\u001b[0;31m---------------------------------------------------------------------------\u001b[0m",
      "\u001b[0;31mConnectionRefusedError\u001b[0m                    Traceback (most recent call last)",
      "\u001b[1;32m/Users/rtakeshi/Documents/Projetos/challenge-DE/src/challenge.ipynb Cell 31\u001b[0m line \u001b[0;36m3\n\u001b[1;32m      <a href='vscode-notebook-cell:/Users/rtakeshi/Documents/Projetos/challenge-DE/src/challenge.ipynb#Y425sZmlsZQ%3D%3D?line=0'>1</a>\u001b[0m sparkSession_default \u001b[39m=\u001b[39m SparkSession\u001b[39m.\u001b[39;49mbuilder\\\n\u001b[1;32m      <a href='vscode-notebook-cell:/Users/rtakeshi/Documents/Projetos/challenge-DE/src/challenge.ipynb#Y425sZmlsZQ%3D%3D?line=1'>2</a>\u001b[0m     \u001b[39m.\u001b[39;49mappName(\u001b[39m\"\u001b[39;49m\u001b[39mFarmersProtestTweets\u001b[39;49m\u001b[39m\"\u001b[39;49m)\\\n\u001b[0;32m----> <a href='vscode-notebook-cell:/Users/rtakeshi/Documents/Projetos/challenge-DE/src/challenge.ipynb#Y425sZmlsZQ%3D%3D?line=2'>3</a>\u001b[0m     \u001b[39m.\u001b[39;49mgetOrCreate()\n",
      "File \u001b[0;32m/opt/homebrew/lib/python3.11/site-packages/pyspark/sql/session.py:503\u001b[0m, in \u001b[0;36mSparkSession.Builder.getOrCreate\u001b[0;34m(self)\u001b[0m\n\u001b[1;32m    500\u001b[0m     session \u001b[39m=\u001b[39m SparkSession(sc, options\u001b[39m=\u001b[39m\u001b[39mself\u001b[39m\u001b[39m.\u001b[39m_options)\n\u001b[1;32m    501\u001b[0m \u001b[39melse\u001b[39;00m:\n\u001b[1;32m    502\u001b[0m     \u001b[39mgetattr\u001b[39m(\n\u001b[0;32m--> 503\u001b[0m         \u001b[39mgetattr\u001b[39m(session\u001b[39m.\u001b[39m_jvm, \u001b[39m\"\u001b[39m\u001b[39mSparkSession$\u001b[39m\u001b[39m\"\u001b[39m), \u001b[39m\"\u001b[39m\u001b[39mMODULE$\u001b[39m\u001b[39m\"\u001b[39m\n\u001b[1;32m    504\u001b[0m     )\u001b[39m.\u001b[39mapplyModifiableSettings(session\u001b[39m.\u001b[39m_jsparkSession, \u001b[39mself\u001b[39m\u001b[39m.\u001b[39m_options)\n\u001b[1;32m    505\u001b[0m \u001b[39mreturn\u001b[39;00m session\n",
      "File \u001b[0;32m/opt/homebrew/lib/python3.11/site-packages/py4j/java_gateway.py:1712\u001b[0m, in \u001b[0;36mJVMView.__getattr__\u001b[0;34m(self, name)\u001b[0m\n\u001b[1;32m   1709\u001b[0m \u001b[39mif\u001b[39;00m name \u001b[39m==\u001b[39m UserHelpAutoCompletion\u001b[39m.\u001b[39mKEY:\n\u001b[1;32m   1710\u001b[0m     \u001b[39mreturn\u001b[39;00m UserHelpAutoCompletion()\n\u001b[0;32m-> 1712\u001b[0m answer \u001b[39m=\u001b[39m \u001b[39mself\u001b[39;49m\u001b[39m.\u001b[39;49m_gateway_client\u001b[39m.\u001b[39;49msend_command(\n\u001b[1;32m   1713\u001b[0m     proto\u001b[39m.\u001b[39;49mREFLECTION_COMMAND_NAME \u001b[39m+\u001b[39;49m\n\u001b[1;32m   1714\u001b[0m     proto\u001b[39m.\u001b[39;49mREFL_GET_UNKNOWN_SUB_COMMAND_NAME \u001b[39m+\u001b[39;49m name \u001b[39m+\u001b[39;49m \u001b[39m\"\u001b[39;49m\u001b[39m\\n\u001b[39;49;00m\u001b[39m\"\u001b[39;49m \u001b[39m+\u001b[39;49m \u001b[39mself\u001b[39;49m\u001b[39m.\u001b[39;49m_id \u001b[39m+\u001b[39;49m\n\u001b[1;32m   1715\u001b[0m     \u001b[39m\"\u001b[39;49m\u001b[39m\\n\u001b[39;49;00m\u001b[39m\"\u001b[39;49m \u001b[39m+\u001b[39;49m proto\u001b[39m.\u001b[39;49mEND_COMMAND_PART)\n\u001b[1;32m   1716\u001b[0m \u001b[39mif\u001b[39;00m answer \u001b[39m==\u001b[39m proto\u001b[39m.\u001b[39mSUCCESS_PACKAGE:\n\u001b[1;32m   1717\u001b[0m     \u001b[39mreturn\u001b[39;00m JavaPackage(name, \u001b[39mself\u001b[39m\u001b[39m.\u001b[39m_gateway_client, jvm_id\u001b[39m=\u001b[39m\u001b[39mself\u001b[39m\u001b[39m.\u001b[39m_id)\n",
      "File \u001b[0;32m/opt/homebrew/lib/python3.11/site-packages/py4j/java_gateway.py:1036\u001b[0m, in \u001b[0;36mGatewayClient.send_command\u001b[0;34m(self, command, retry, binary)\u001b[0m\n\u001b[1;32m   1015\u001b[0m \u001b[39mdef\u001b[39;00m \u001b[39msend_command\u001b[39m(\u001b[39mself\u001b[39m, command, retry\u001b[39m=\u001b[39m\u001b[39mTrue\u001b[39;00m, binary\u001b[39m=\u001b[39m\u001b[39mFalse\u001b[39;00m):\n\u001b[1;32m   1016\u001b[0m \u001b[39m    \u001b[39m\u001b[39m\"\"\"Sends a command to the JVM. This method is not intended to be\u001b[39;00m\n\u001b[1;32m   1017\u001b[0m \u001b[39m       called directly by Py4J users. It is usually called by\u001b[39;00m\n\u001b[1;32m   1018\u001b[0m \u001b[39m       :class:`JavaMember` instances.\u001b[39;00m\n\u001b[0;32m   (...)\u001b[0m\n\u001b[1;32m   1034\u001b[0m \u001b[39m     if `binary` is `True`.\u001b[39;00m\n\u001b[1;32m   1035\u001b[0m \u001b[39m    \"\"\"\u001b[39;00m\n\u001b[0;32m-> 1036\u001b[0m     connection \u001b[39m=\u001b[39m \u001b[39mself\u001b[39;49m\u001b[39m.\u001b[39;49m_get_connection()\n\u001b[1;32m   1037\u001b[0m     \u001b[39mtry\u001b[39;00m:\n\u001b[1;32m   1038\u001b[0m         response \u001b[39m=\u001b[39m connection\u001b[39m.\u001b[39msend_command(command)\n",
      "File \u001b[0;32m/opt/homebrew/lib/python3.11/site-packages/py4j/clientserver.py:284\u001b[0m, in \u001b[0;36mJavaClient._get_connection\u001b[0;34m(self)\u001b[0m\n\u001b[1;32m    281\u001b[0m     \u001b[39mpass\u001b[39;00m\n\u001b[1;32m    283\u001b[0m \u001b[39mif\u001b[39;00m connection \u001b[39mis\u001b[39;00m \u001b[39mNone\u001b[39;00m \u001b[39mor\u001b[39;00m connection\u001b[39m.\u001b[39msocket \u001b[39mis\u001b[39;00m \u001b[39mNone\u001b[39;00m:\n\u001b[0;32m--> 284\u001b[0m     connection \u001b[39m=\u001b[39m \u001b[39mself\u001b[39;49m\u001b[39m.\u001b[39;49m_create_new_connection()\n\u001b[1;32m    285\u001b[0m \u001b[39mreturn\u001b[39;00m connection\n",
      "File \u001b[0;32m/opt/homebrew/lib/python3.11/site-packages/py4j/clientserver.py:291\u001b[0m, in \u001b[0;36mJavaClient._create_new_connection\u001b[0;34m(self)\u001b[0m\n\u001b[1;32m    287\u001b[0m \u001b[39mdef\u001b[39;00m \u001b[39m_create_new_connection\u001b[39m(\u001b[39mself\u001b[39m):\n\u001b[1;32m    288\u001b[0m     connection \u001b[39m=\u001b[39m ClientServerConnection(\n\u001b[1;32m    289\u001b[0m         \u001b[39mself\u001b[39m\u001b[39m.\u001b[39mjava_parameters, \u001b[39mself\u001b[39m\u001b[39m.\u001b[39mpython_parameters,\n\u001b[1;32m    290\u001b[0m         \u001b[39mself\u001b[39m\u001b[39m.\u001b[39mgateway_property, \u001b[39mself\u001b[39m)\n\u001b[0;32m--> 291\u001b[0m     connection\u001b[39m.\u001b[39;49mconnect_to_java_server()\n\u001b[1;32m    292\u001b[0m     \u001b[39mself\u001b[39m\u001b[39m.\u001b[39mset_thread_connection(connection)\n\u001b[1;32m    293\u001b[0m     \u001b[39mreturn\u001b[39;00m connection\n",
      "File \u001b[0;32m/opt/homebrew/lib/python3.11/site-packages/py4j/clientserver.py:438\u001b[0m, in \u001b[0;36mClientServerConnection.connect_to_java_server\u001b[0;34m(self)\u001b[0m\n\u001b[1;32m    435\u001b[0m \u001b[39mif\u001b[39;00m \u001b[39mself\u001b[39m\u001b[39m.\u001b[39mssl_context:\n\u001b[1;32m    436\u001b[0m     \u001b[39mself\u001b[39m\u001b[39m.\u001b[39msocket \u001b[39m=\u001b[39m \u001b[39mself\u001b[39m\u001b[39m.\u001b[39mssl_context\u001b[39m.\u001b[39mwrap_socket(\n\u001b[1;32m    437\u001b[0m         \u001b[39mself\u001b[39m\u001b[39m.\u001b[39msocket, server_hostname\u001b[39m=\u001b[39m\u001b[39mself\u001b[39m\u001b[39m.\u001b[39mjava_address)\n\u001b[0;32m--> 438\u001b[0m \u001b[39mself\u001b[39;49m\u001b[39m.\u001b[39;49msocket\u001b[39m.\u001b[39;49mconnect((\u001b[39mself\u001b[39;49m\u001b[39m.\u001b[39;49mjava_address, \u001b[39mself\u001b[39;49m\u001b[39m.\u001b[39;49mjava_port))\n\u001b[1;32m    439\u001b[0m \u001b[39mself\u001b[39m\u001b[39m.\u001b[39mstream \u001b[39m=\u001b[39m \u001b[39mself\u001b[39m\u001b[39m.\u001b[39msocket\u001b[39m.\u001b[39mmakefile(\u001b[39m\"\u001b[39m\u001b[39mrb\u001b[39m\u001b[39m\"\u001b[39m)\n\u001b[1;32m    440\u001b[0m \u001b[39mself\u001b[39m\u001b[39m.\u001b[39mis_connected \u001b[39m=\u001b[39m \u001b[39mTrue\u001b[39;00m\n",
      "\u001b[0;31mConnectionRefusedError\u001b[0m: [Errno 61] Connection refused"
     ]
    }
   ],
   "source": [
    "sparkSession_default = SparkSession.builder\\\n",
    "    .appName(\"FarmersProtestTweets\")\\\n",
    "    .getOrCreate()\n"
   ]
  },
  {
   "cell_type": "code",
   "execution_count": null,
   "metadata": {},
   "outputs": [],
   "source": []
  },
  {
   "cell_type": "code",
   "execution_count": 26,
   "metadata": {},
   "outputs": [],
   "source": [
    "sparkSession_optimization = SparkSession.builder \\\n",
    "    .appName(\"FarmersProtestTweetsOptmization\") \\\n",
    "    .config(\"spark.executor.memory\", \"4g\") \\\n",
    "    .config(\"spark.driver.memory\", \"4g\") \\\n",
    "    .getOrCreate()"
   ]
  },
  {
   "cell_type": "code",
   "execution_count": 30,
   "metadata": {},
   "outputs": [],
   "source": []
  },
  {
   "cell_type": "markdown",
   "metadata": {},
   "source": [
    "## Q1 Memory"
   ]
  },
  {
   "cell_type": "code",
   "execution_count": 22,
   "metadata": {},
   "outputs": [],
   "source": [
    "from q1_memory import q1_memory"
   ]
  },
  {
   "cell_type": "code",
   "execution_count": 30,
   "metadata": {},
   "outputs": [
    {
     "name": "stderr",
     "output_type": "stream",
     "text": [
      "23/11/03 12:14:47 WARN SparkSession: Using an existing Spark session; only runtime SQL configurations will take effect.\n"
     ]
    },
    {
     "name": "stdout",
     "output_type": "stream",
     "text": [
      "Filename: /Users/rtakeshi/Documents/Projetos/challenge-DE/src/q1_memory.py\n",
      "\n",
      "Line #    Mem usage    Increment  Occurrences   Line Contents\n",
      "=============================================================\n",
      "    17    102.2 MiB    102.2 MiB           1   @profile\n",
      "    18                                         def q1_memory(file_path: str) -> List[Tuple[datetime.date, str]]:\n",
      "    19                                             \n",
      "    20    102.3 MiB      0.0 MiB           1       spark = SparkSession.builder.appName(\"FarmersProtestTweets\").getOrCreate()\n",
      "    21                                             \n",
      "    22    102.3 MiB      0.0 MiB           1       df = spark.read.option('delimiter', '~').option('header', True).option('multiline', True).schema(STAGING_SCHEMA).csv(file_path)\n",
      "    23                                             \n",
      "    24                                             #Top 10 dates with more content\n",
      "    25    102.3 MiB      0.0 MiB           1       date_counts = df.groupBy('date').agg(count('content').alias('date_count'))\n",
      "    26    102.3 MiB      0.0 MiB           1       date_counts = date_counts.orderBy(col('date_count').desc()).limit(10)\n",
      "    27                                         \n",
      "    28                                             #Joined DF filtering only top 10 dates by inner joining\n",
      "    29    102.3 MiB      0.0 MiB           1       filtered_df = df.join(date_counts, 'date', 'inner')\n",
      "    30                                         \n",
      "    31                                             #Counting Users posts on top 10 dates\n",
      "    32    102.3 MiB      0.0 MiB           1       user_counts_by_date = filtered_df.groupBy('date', 'date_count', 'username').agg(count('content').alias('user_count'))\n",
      "    33                                         \n",
      "    34                                             #Creating a window analytical function to filter top 1 username in each date\n",
      "    35                                             #Edge case: if there is a tie, the username will follow alphabetical ordering\n",
      "    36    102.3 MiB      0.0 MiB           1       window_spec = Window.partitionBy('date', 'date_count').orderBy(col('user_count').desc(), col('username'))\n",
      "    37                                         \n",
      "    38                                             #creating rank based in row_number ordering\n",
      "    39    102.3 MiB      0.0 MiB           1       user_counts_by_date = user_counts_by_date.withColumn('rank', row_number().over(window_spec))\n",
      "    40                                         \n",
      "    41                                             #getting the Rank1 Username for each date\n",
      "    42    102.3 MiB      0.0 MiB           1       top_users_by_date = user_counts_by_date.filter(user_counts_by_date['rank'] == 1)\n",
      "    43                                         \n",
      "    44                                             #ordering by content count by date\n",
      "    45    102.3 MiB      0.0 MiB           1       top_users_by_date = top_users_by_date.select(['date', 'username']).orderBy(col('date_count').desc())\n",
      "    46                                         \n",
      "    47                                             # Collect dataframe results\n",
      "    48    102.3 MiB      0.0 MiB           1       result_collection = top_users_by_date.collect()\n",
      "    49                                         \n",
      "    50                                             \n",
      "    51                                         \n",
      "    52                                             #Creating result list of tupples\n",
      "    53    102.3 MiB      0.0 MiB           1       result = []\n",
      "    54    102.3 MiB      0.0 MiB          11       for row in result_collection:\n",
      "    55    102.3 MiB      0.0 MiB          10           result.append((row['date'], row['username']))\n",
      "    56                                         \n",
      "    57                                         \n",
      "    58    102.3 MiB      0.0 MiB           1       return result\n",
      "\n",
      "\n"
     ]
    }
   ],
   "source": [
    "start_time = datetime.now()\n",
    "result_q1_memory = q1_memory(STAGING_DATA_PATH)\n",
    "end_time = datetime.now()\n"
   ]
  },
  {
   "cell_type": "code",
   "execution_count": 24,
   "metadata": {},
   "outputs": [
    {
     "name": "stdout",
     "output_type": "stream",
     "text": [
      "Duration: 0:00:04.781052\n"
     ]
    }
   ],
   "source": [
    "print('Duration: {}'.format(end_time - start_time))"
   ]
  },
  {
   "cell_type": "markdown",
   "metadata": {},
   "source": [
    "## Q1 Time"
   ]
  },
  {
   "cell_type": "code",
   "execution_count": 25,
   "metadata": {},
   "outputs": [],
   "source": [
    "from q1_time import q1_time"
   ]
  },
  {
   "cell_type": "code",
   "execution_count": 31,
   "metadata": {},
   "outputs": [
    {
     "name": "stderr",
     "output_type": "stream",
     "text": [
      "23/11/03 12:14:54 WARN SparkSession: Using an existing Spark session; only runtime SQL configurations will take effect.\n",
      "23/11/03 12:14:54 WARN CacheManager: Asked to cache already cached data.\n"
     ]
    },
    {
     "name": "stdout",
     "output_type": "stream",
     "text": [
      "Filename: /Users/rtakeshi/Documents/Projetos/challenge-DE/src/q1_time.py\n",
      "\n",
      "Line #    Mem usage    Increment  Occurrences   Line Contents\n",
      "=============================================================\n",
      "    18    102.3 MiB    102.3 MiB           1   @profile\n",
      "    19                                         def q1_time(file_path: str) -> List[Tuple[datetime.date, str]]:\n",
      "    20                                                 \n",
      "    21    102.3 MiB      0.0 MiB           1       spark = SparkSession.builder.appName(\"FarmersProtestTweetsOptmization\").getOrCreate()\n",
      "    22                                         \n",
      "    23                                         \n",
      "    24    102.3 MiB      0.0 MiB           1       df = spark.read.option('delimiter', '~').option('header', True).option('multiline', True).schema(STAGING_SCHEMA).csv(file_path)\n",
      "    25    102.3 MiB      0.0 MiB           1       df.persist(StorageLevel.MEMORY_ONLY)\n",
      "    26                                         \n",
      "    27                                             #Top 10 dates with more content\n",
      "    28    102.3 MiB      0.0 MiB           1       date_counts = df.groupBy('date').agg(count('content').alias('date_count'))\n",
      "    29    102.3 MiB      0.0 MiB           1       date_counts = date_counts.orderBy(col('date_count').desc()).limit(10)\n",
      "    30                                         \n",
      "    31                                             #Joined DF filtering only top 10 dates by inner joining\n",
      "    32    102.3 MiB      0.0 MiB           1       filtered_df = df.join(date_counts, 'date', 'inner')\n",
      "    33                                         \n",
      "    34                                             #Counting Users posts on top 10 dates\n",
      "    35    102.3 MiB      0.0 MiB           1       user_counts_by_date = filtered_df.groupBy('date', 'date_count', 'username').agg(count('content').alias('user_count'))\n",
      "    36                                         \n",
      "    37                                             #Creating a window analytical function to filter top 1 username in each date\n",
      "    38                                             #Edge case: if there is a tie, the username will follow alphabetical ordering\n",
      "    39    102.3 MiB      0.0 MiB           1       window_spec = Window.partitionBy('date', 'date_count').orderBy(col('user_count').desc(), col('username'))\n",
      "    40                                         \n",
      "    41                                             #creating rank based in row_number ordering\n",
      "    42    102.3 MiB      0.0 MiB           1       user_counts_by_date = user_counts_by_date.withColumn('rank', row_number().over(window_spec))\n",
      "    43                                         \n",
      "    44                                             #getting the Rank1 Username for each date\n",
      "    45    102.3 MiB      0.0 MiB           1       top_users_by_date = user_counts_by_date.filter(user_counts_by_date['rank'] == 1)\n",
      "    46                                         \n",
      "    47                                             #ordering by content count by date\n",
      "    48    102.3 MiB      0.0 MiB           1       top_users_by_date = top_users_by_date.select(['date', 'username']).orderBy(col('date_count').desc())\n",
      "    49                                         \n",
      "    50                                             # Collect dataframe results\n",
      "    51    102.3 MiB      0.0 MiB           1       result_collection = top_users_by_date.collect()\n",
      "    52                                         \n",
      "    53                                         \n",
      "    54                                             #Creating result list of tupples\n",
      "    55    102.3 MiB      0.0 MiB           1       result = []\n",
      "    56    102.3 MiB      0.0 MiB          11       for row in result_collection:\n",
      "    57    102.3 MiB      0.0 MiB          10           result.append((row['date'], row['username']))\n",
      "    58                                         \n",
      "    59                                         \n",
      "    60    102.3 MiB      0.0 MiB           1       return result\n",
      "\n",
      "\n"
     ]
    }
   ],
   "source": [
    "start_time = datetime.now()\n",
    "result_q1_time = q1_time(STAGING_DATA_PATH)\n",
    "end_time = datetime.now()\n",
    "\n"
   ]
  },
  {
   "cell_type": "code",
   "execution_count": 27,
   "metadata": {},
   "outputs": [
    {
     "name": "stdout",
     "output_type": "stream",
     "text": [
      "Duration: 0:00:03.785077\n"
     ]
    }
   ],
   "source": [
    "print('Duration: {}'.format(end_time - start_time))"
   ]
  },
  {
   "cell_type": "markdown",
   "metadata": {},
   "source": [
    "### Q1 Conclusions"
   ]
  },
  {
   "cell_type": "markdown",
   "metadata": {},
   "source": [
    "1. The memory profiler cannot access JVM memory usage. Consequently, the memory usage will appear stable in the report.\n",
    "2. The data volume of the staging data (27 MB) is inadequate for a comprehensive performance evaluation in PySpark. To address this, I will create two additional mocked datasets with larger data volumes."
   ]
  },
  {
   "cell_type": "markdown",
   "metadata": {},
   "source": [
    "By running my functions with a 2.2 GB data volume, it was still not possible to perform a thorough bottleneck analysis for my code. The following notebook steps will be analyzed using a 22 GB mocked dataset."
   ]
  },
  {
   "cell_type": "markdown",
   "metadata": {},
   "source": [
    "### Q1 with higher data volume"
   ]
  },
  {
   "cell_type": "code",
   "execution_count": 29,
   "metadata": {},
   "outputs": [],
   "source": [
    "LARGER_DATA_DIR = \"../data/test/test_volume_data20gb.csv\""
   ]
  },
  {
   "cell_type": "code",
   "execution_count": 29,
   "metadata": {},
   "outputs": [
    {
     "name": "stderr",
     "output_type": "stream",
     "text": [
      "                                                                                \r"
     ]
    }
   ],
   "source": [
    "result = q1_memory(LARGER_DATA_DIR)\n"
   ]
  },
  {
   "cell_type": "code",
   "execution_count": 13,
   "metadata": {},
   "outputs": [
    {
     "name": "stdout",
     "output_type": "stream",
     "text": [
      "Duration: 0:00:46.826039\n"
     ]
    }
   ],
   "source": []
  },
  {
   "cell_type": "code",
   "execution_count": null,
   "metadata": {},
   "outputs": [],
   "source": [
    "print('Duration: {}'.format(end_time - start_time))"
   ]
  },
  {
   "cell_type": "markdown",
   "metadata": {},
   "source": [
    "|  Spark_job_id |  duration  | memory_peak  | memory_xyz  |\n",
    "|---------------|------------|--------------|-------------|\n",
    "|             0 |            |     21s   |   347.2mb      |           \n",
    "|             1 |            |           |                |           \n",
    "|             2 |            |           |                |            \n",
    "|             3 |            |           |                |            \n",
    "|             4 |            |           |                |           \n",
    "|             5 |            |           |                |          \n",
    "|             6 |                 |           |              |             |\n",
    "|             7 |                 |           |              |             |\n"
   ]
  },
  {
   "cell_type": "markdown",
   "metadata": {},
   "source": [
    "## Solving Questions"
   ]
  },
  {
   "cell_type": "markdown",
   "metadata": {},
   "source": [
    "### Q1 Result"
   ]
  },
  {
   "cell_type": "code",
   "execution_count": 33,
   "metadata": {},
   "outputs": [],
   "source": [
    "from q1_memory import q1_memory"
   ]
  },
  {
   "cell_type": "code",
   "execution_count": 35,
   "metadata": {},
   "outputs": [
    {
     "name": "stdout",
     "output_type": "stream",
     "text": [
      "Filename: /Users/rtakeshi/Documents/Projetos/challenge-DE/src/q1_memory.py\n",
      "\n",
      "Line #    Mem usage    Increment  Occurrences   Line Contents\n",
      "=============================================================\n",
      "    17    102.4 MiB    102.4 MiB           1   @profile\n",
      "    18                                         def q1_memory(file_path: str) -> List[Tuple[datetime.date, str]]:\n",
      "    19                                             \n",
      "    20    102.4 MiB      0.0 MiB           1       spark = SparkSession.builder.appName(\"FarmersProtestTweets\").getOrCreate()\n",
      "    21                                             \n",
      "    22    102.4 MiB      0.0 MiB           1       df = spark.read.option('delimiter', '~').option('header', True).option('multiline', True).schema(STAGING_SCHEMA).csv(file_path)\n",
      "    23                                             \n",
      "    24                                             #Top 10 dates with more content\n",
      "    25    102.4 MiB      0.0 MiB           1       date_counts = df.groupBy('date').agg(count('content').alias('date_count'))\n",
      "    26    102.4 MiB      0.0 MiB           1       date_counts = date_counts.orderBy(col('date_count').desc()).limit(10)\n",
      "    27                                         \n",
      "    28                                             #Joined DF filtering only top 10 dates by inner joining\n",
      "    29    102.4 MiB      0.0 MiB           1       filtered_df = df.join(date_counts, 'date', 'inner')\n",
      "    30                                         \n",
      "    31                                             #Counting Users posts on top 10 dates\n",
      "    32    102.4 MiB      0.0 MiB           1       user_counts_by_date = filtered_df.groupBy('date', 'date_count', 'username').agg(count('content').alias('user_count'))\n",
      "    33                                         \n",
      "    34                                             #Creating a window analytical function to filter top 1 username in each date\n",
      "    35                                             #Edge case: if there is a tie, the username will follow alphabetical ordering\n",
      "    36    102.4 MiB      0.0 MiB           1       window_spec = Window.partitionBy('date', 'date_count').orderBy(col('user_count').desc(), col('username'))\n",
      "    37                                         \n",
      "    38                                             #creating rank based in row_number ordering\n",
      "    39    102.4 MiB      0.0 MiB           1       user_counts_by_date = user_counts_by_date.withColumn('rank', row_number().over(window_spec))\n",
      "    40                                         \n",
      "    41                                             #getting the Rank1 Username for each date\n",
      "    42    102.4 MiB      0.0 MiB           1       top_users_by_date = user_counts_by_date.filter(user_counts_by_date['rank'] == 1)\n",
      "    43                                         \n",
      "    44                                             #ordering by content count by date\n",
      "    45    102.4 MiB      0.0 MiB           1       top_users_by_date = top_users_by_date.select(['date', 'username']).orderBy(col('date_count').desc())\n",
      "    46                                         \n",
      "    47                                             # Collect dataframe results\n",
      "    48    102.4 MiB      0.0 MiB           1       result_collection = top_users_by_date.collect()\n",
      "    49                                         \n",
      "    50                                             \n",
      "    51                                         \n",
      "    52                                             #Creating result list of tupples\n",
      "    53    102.4 MiB      0.0 MiB           1       result = []\n",
      "    54    102.4 MiB      0.0 MiB          11       for row in result_collection:\n",
      "    55    102.4 MiB      0.0 MiB          10           result.append((row['date'], row['username']))\n",
      "    56                                         \n",
      "    57                                         \n",
      "    58    102.4 MiB      0.0 MiB           1       return result\n",
      "\n",
      "\n"
     ]
    }
   ],
   "source": [
    "result_q1 = q1_memory(STAGING_DATA_PATH)"
   ]
  },
  {
   "cell_type": "code",
   "execution_count": 36,
   "metadata": {},
   "outputs": [
    {
     "name": "stdout",
     "output_type": "stream",
     "text": [
      "[(datetime.date(2021, 2, 12), 'RanbirS00614606'), (datetime.date(2021, 2, 13), 'MaanDee08215437'), (datetime.date(2021, 2, 17), 'RaaJVinderkaur'), (datetime.date(2021, 2, 16), 'jot__b'), (datetime.date(2021, 2, 14), 'rebelpacifist'), (datetime.date(2021, 2, 18), 'neetuanjle_nitu'), (datetime.date(2021, 2, 15), 'jot__b'), (datetime.date(2021, 2, 20), 'MangalJ23056160'), (datetime.date(2021, 2, 23), 'Surrypuria'), (datetime.date(2021, 2, 19), 'Preetm91')]\n"
     ]
    }
   ],
   "source": [
    "print(result_q1)"
   ]
  },
  {
   "cell_type": "markdown",
   "metadata": {},
   "source": [
    "### Q2 Result"
   ]
  },
  {
   "cell_type": "code",
   "execution_count": 38,
   "metadata": {},
   "outputs": [],
   "source": [
    "from q2_memory import q2_memory"
   ]
  },
  {
   "cell_type": "code",
   "execution_count": 44,
   "metadata": {},
   "outputs": [
    {
     "ename": "ConnectionRefusedError",
     "evalue": "[Errno 61] Connection refused",
     "output_type": "error",
     "traceback": [
      "\u001b[0;31m---------------------------------------------------------------------------\u001b[0m",
      "\u001b[0;31mConnectionRefusedError\u001b[0m                    Traceback (most recent call last)",
      "\u001b[1;32m/Users/rtakeshi/Documents/Projetos/challenge-DE/src/challenge.ipynb Cell 59\u001b[0m line \u001b[0;36m1\n\u001b[0;32m----> <a href='vscode-notebook-cell:/Users/rtakeshi/Documents/Projetos/challenge-DE/src/challenge.ipynb#Y506sZmlsZQ%3D%3D?line=0'>1</a>\u001b[0m result_q2 \u001b[39m=\u001b[39m q2_memory(STAGING_DATA_PATH)\n",
      "File \u001b[0;32m~/Documents/Projetos/challenge-DE/src/q2_memory.py:18\u001b[0m, in \u001b[0;36mq2_memory\u001b[0;34m(file_path)\u001b[0m\n\u001b[1;32m     16\u001b[0m \u001b[39mdef\u001b[39;00m \u001b[39mq2_memory\u001b[39m(file_path: \u001b[39mstr\u001b[39m) \u001b[39m-\u001b[39m\u001b[39m>\u001b[39m List[Tuple[\u001b[39mstr\u001b[39m, \u001b[39mint\u001b[39m]]:\n\u001b[0;32m---> 18\u001b[0m     spark \u001b[39m=\u001b[39m SparkSession\u001b[39m.\u001b[39;49mbuilder\u001b[39m.\u001b[39;49mappName(\u001b[39m\"\u001b[39;49m\u001b[39mFarmersProtestTweets\u001b[39;49m\u001b[39m\"\u001b[39;49m)\u001b[39m.\u001b[39;49mgetOrCreate()\n\u001b[1;32m     20\u001b[0m     df \u001b[39m=\u001b[39m spark\u001b[39m.\u001b[39mread\u001b[39m.\u001b[39moption(\u001b[39m'\u001b[39m\u001b[39mdelimiter\u001b[39m\u001b[39m'\u001b[39m, \u001b[39m'\u001b[39m\u001b[39m~\u001b[39m\u001b[39m'\u001b[39m)\u001b[39m.\u001b[39moption(\u001b[39m'\u001b[39m\u001b[39mheader\u001b[39m\u001b[39m'\u001b[39m, \u001b[39mTrue\u001b[39;00m)\u001b[39m.\u001b[39moption(\u001b[39m'\u001b[39m\u001b[39mmultiline\u001b[39m\u001b[39m'\u001b[39m, \u001b[39mTrue\u001b[39;00m)\u001b[39m.\u001b[39mschema(STAGING_SCHEMA)\u001b[39m.\u001b[39mcsv(file_path)\n\u001b[1;32m     22\u001b[0m     \u001b[39m#Defining extract emoji local function to be converted in UDF\u001b[39;00m\n",
      "File \u001b[0;32m/opt/homebrew/lib/python3.11/site-packages/pyspark/sql/session.py:503\u001b[0m, in \u001b[0;36mSparkSession.Builder.getOrCreate\u001b[0;34m(self)\u001b[0m\n\u001b[1;32m    500\u001b[0m     session \u001b[39m=\u001b[39m SparkSession(sc, options\u001b[39m=\u001b[39m\u001b[39mself\u001b[39m\u001b[39m.\u001b[39m_options)\n\u001b[1;32m    501\u001b[0m \u001b[39melse\u001b[39;00m:\n\u001b[1;32m    502\u001b[0m     \u001b[39mgetattr\u001b[39m(\n\u001b[0;32m--> 503\u001b[0m         \u001b[39mgetattr\u001b[39m(session\u001b[39m.\u001b[39m_jvm, \u001b[39m\"\u001b[39m\u001b[39mSparkSession$\u001b[39m\u001b[39m\"\u001b[39m), \u001b[39m\"\u001b[39m\u001b[39mMODULE$\u001b[39m\u001b[39m\"\u001b[39m\n\u001b[1;32m    504\u001b[0m     )\u001b[39m.\u001b[39mapplyModifiableSettings(session\u001b[39m.\u001b[39m_jsparkSession, \u001b[39mself\u001b[39m\u001b[39m.\u001b[39m_options)\n\u001b[1;32m    505\u001b[0m \u001b[39mreturn\u001b[39;00m session\n",
      "File \u001b[0;32m/opt/homebrew/lib/python3.11/site-packages/py4j/java_gateway.py:1712\u001b[0m, in \u001b[0;36mJVMView.__getattr__\u001b[0;34m(self, name)\u001b[0m\n\u001b[1;32m   1709\u001b[0m \u001b[39mif\u001b[39;00m name \u001b[39m==\u001b[39m UserHelpAutoCompletion\u001b[39m.\u001b[39mKEY:\n\u001b[1;32m   1710\u001b[0m     \u001b[39mreturn\u001b[39;00m UserHelpAutoCompletion()\n\u001b[0;32m-> 1712\u001b[0m answer \u001b[39m=\u001b[39m \u001b[39mself\u001b[39;49m\u001b[39m.\u001b[39;49m_gateway_client\u001b[39m.\u001b[39;49msend_command(\n\u001b[1;32m   1713\u001b[0m     proto\u001b[39m.\u001b[39;49mREFLECTION_COMMAND_NAME \u001b[39m+\u001b[39;49m\n\u001b[1;32m   1714\u001b[0m     proto\u001b[39m.\u001b[39;49mREFL_GET_UNKNOWN_SUB_COMMAND_NAME \u001b[39m+\u001b[39;49m name \u001b[39m+\u001b[39;49m \u001b[39m\"\u001b[39;49m\u001b[39m\\n\u001b[39;49;00m\u001b[39m\"\u001b[39;49m \u001b[39m+\u001b[39;49m \u001b[39mself\u001b[39;49m\u001b[39m.\u001b[39;49m_id \u001b[39m+\u001b[39;49m\n\u001b[1;32m   1715\u001b[0m     \u001b[39m\"\u001b[39;49m\u001b[39m\\n\u001b[39;49;00m\u001b[39m\"\u001b[39;49m \u001b[39m+\u001b[39;49m proto\u001b[39m.\u001b[39;49mEND_COMMAND_PART)\n\u001b[1;32m   1716\u001b[0m \u001b[39mif\u001b[39;00m answer \u001b[39m==\u001b[39m proto\u001b[39m.\u001b[39mSUCCESS_PACKAGE:\n\u001b[1;32m   1717\u001b[0m     \u001b[39mreturn\u001b[39;00m JavaPackage(name, \u001b[39mself\u001b[39m\u001b[39m.\u001b[39m_gateway_client, jvm_id\u001b[39m=\u001b[39m\u001b[39mself\u001b[39m\u001b[39m.\u001b[39m_id)\n",
      "File \u001b[0;32m/opt/homebrew/lib/python3.11/site-packages/py4j/java_gateway.py:1036\u001b[0m, in \u001b[0;36mGatewayClient.send_command\u001b[0;34m(self, command, retry, binary)\u001b[0m\n\u001b[1;32m   1015\u001b[0m \u001b[39mdef\u001b[39;00m \u001b[39msend_command\u001b[39m(\u001b[39mself\u001b[39m, command, retry\u001b[39m=\u001b[39m\u001b[39mTrue\u001b[39;00m, binary\u001b[39m=\u001b[39m\u001b[39mFalse\u001b[39;00m):\n\u001b[1;32m   1016\u001b[0m \u001b[39m    \u001b[39m\u001b[39m\"\"\"Sends a command to the JVM. This method is not intended to be\u001b[39;00m\n\u001b[1;32m   1017\u001b[0m \u001b[39m       called directly by Py4J users. It is usually called by\u001b[39;00m\n\u001b[1;32m   1018\u001b[0m \u001b[39m       :class:`JavaMember` instances.\u001b[39;00m\n\u001b[0;32m   (...)\u001b[0m\n\u001b[1;32m   1034\u001b[0m \u001b[39m     if `binary` is `True`.\u001b[39;00m\n\u001b[1;32m   1035\u001b[0m \u001b[39m    \"\"\"\u001b[39;00m\n\u001b[0;32m-> 1036\u001b[0m     connection \u001b[39m=\u001b[39m \u001b[39mself\u001b[39;49m\u001b[39m.\u001b[39;49m_get_connection()\n\u001b[1;32m   1037\u001b[0m     \u001b[39mtry\u001b[39;00m:\n\u001b[1;32m   1038\u001b[0m         response \u001b[39m=\u001b[39m connection\u001b[39m.\u001b[39msend_command(command)\n",
      "File \u001b[0;32m/opt/homebrew/lib/python3.11/site-packages/py4j/clientserver.py:284\u001b[0m, in \u001b[0;36mJavaClient._get_connection\u001b[0;34m(self)\u001b[0m\n\u001b[1;32m    281\u001b[0m     \u001b[39mpass\u001b[39;00m\n\u001b[1;32m    283\u001b[0m \u001b[39mif\u001b[39;00m connection \u001b[39mis\u001b[39;00m \u001b[39mNone\u001b[39;00m \u001b[39mor\u001b[39;00m connection\u001b[39m.\u001b[39msocket \u001b[39mis\u001b[39;00m \u001b[39mNone\u001b[39;00m:\n\u001b[0;32m--> 284\u001b[0m     connection \u001b[39m=\u001b[39m \u001b[39mself\u001b[39;49m\u001b[39m.\u001b[39;49m_create_new_connection()\n\u001b[1;32m    285\u001b[0m \u001b[39mreturn\u001b[39;00m connection\n",
      "File \u001b[0;32m/opt/homebrew/lib/python3.11/site-packages/py4j/clientserver.py:291\u001b[0m, in \u001b[0;36mJavaClient._create_new_connection\u001b[0;34m(self)\u001b[0m\n\u001b[1;32m    287\u001b[0m \u001b[39mdef\u001b[39;00m \u001b[39m_create_new_connection\u001b[39m(\u001b[39mself\u001b[39m):\n\u001b[1;32m    288\u001b[0m     connection \u001b[39m=\u001b[39m ClientServerConnection(\n\u001b[1;32m    289\u001b[0m         \u001b[39mself\u001b[39m\u001b[39m.\u001b[39mjava_parameters, \u001b[39mself\u001b[39m\u001b[39m.\u001b[39mpython_parameters,\n\u001b[1;32m    290\u001b[0m         \u001b[39mself\u001b[39m\u001b[39m.\u001b[39mgateway_property, \u001b[39mself\u001b[39m)\n\u001b[0;32m--> 291\u001b[0m     connection\u001b[39m.\u001b[39;49mconnect_to_java_server()\n\u001b[1;32m    292\u001b[0m     \u001b[39mself\u001b[39m\u001b[39m.\u001b[39mset_thread_connection(connection)\n\u001b[1;32m    293\u001b[0m     \u001b[39mreturn\u001b[39;00m connection\n",
      "File \u001b[0;32m/opt/homebrew/lib/python3.11/site-packages/py4j/clientserver.py:438\u001b[0m, in \u001b[0;36mClientServerConnection.connect_to_java_server\u001b[0;34m(self)\u001b[0m\n\u001b[1;32m    435\u001b[0m \u001b[39mif\u001b[39;00m \u001b[39mself\u001b[39m\u001b[39m.\u001b[39mssl_context:\n\u001b[1;32m    436\u001b[0m     \u001b[39mself\u001b[39m\u001b[39m.\u001b[39msocket \u001b[39m=\u001b[39m \u001b[39mself\u001b[39m\u001b[39m.\u001b[39mssl_context\u001b[39m.\u001b[39mwrap_socket(\n\u001b[1;32m    437\u001b[0m         \u001b[39mself\u001b[39m\u001b[39m.\u001b[39msocket, server_hostname\u001b[39m=\u001b[39m\u001b[39mself\u001b[39m\u001b[39m.\u001b[39mjava_address)\n\u001b[0;32m--> 438\u001b[0m \u001b[39mself\u001b[39;49m\u001b[39m.\u001b[39;49msocket\u001b[39m.\u001b[39;49mconnect((\u001b[39mself\u001b[39;49m\u001b[39m.\u001b[39;49mjava_address, \u001b[39mself\u001b[39;49m\u001b[39m.\u001b[39;49mjava_port))\n\u001b[1;32m    439\u001b[0m \u001b[39mself\u001b[39m\u001b[39m.\u001b[39mstream \u001b[39m=\u001b[39m \u001b[39mself\u001b[39m\u001b[39m.\u001b[39msocket\u001b[39m.\u001b[39mmakefile(\u001b[39m\"\u001b[39m\u001b[39mrb\u001b[39m\u001b[39m\"\u001b[39m)\n\u001b[1;32m    440\u001b[0m \u001b[39mself\u001b[39m\u001b[39m.\u001b[39mis_connected \u001b[39m=\u001b[39m \u001b[39mTrue\u001b[39;00m\n",
      "\u001b[0;31mConnectionRefusedError\u001b[0m: [Errno 61] Connection refused"
     ]
    }
   ],
   "source": [
    "result_q2 = q2_memory(STAGING_DATA_PATH)"
   ]
  },
  {
   "cell_type": "code",
   "execution_count": null,
   "metadata": {},
   "outputs": [],
   "source": [
    "sparkSession_default.stop()\n",
    "sparkSession_optimization.stop()"
   ]
  },
  {
   "cell_type": "markdown",
   "metadata": {},
   "source": []
  }
 ],
 "metadata": {
  "kernelspec": {
   "display_name": "Python 3 (ipykernel)",
   "language": "python",
   "name": "python3"
  },
  "language_info": {
   "codemirror_mode": {
    "name": "ipython",
    "version": 3
   },
   "file_extension": ".py",
   "mimetype": "text/x-python",
   "name": "python",
   "nbconvert_exporter": "python",
   "pygments_lexer": "ipython3",
   "version": "3.11.6"
  },
  "orig_nbformat": 4
 },
 "nbformat": 4,
 "nbformat_minor": 2
}
