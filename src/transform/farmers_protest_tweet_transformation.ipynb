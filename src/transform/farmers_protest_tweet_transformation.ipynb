{
 "cells": [
  {
   "cell_type": "markdown",
   "metadata": {},
   "source": [
    "### Spark Session Build and File Opening"
   ]
  },
  {
   "cell_type": "code",
   "execution_count": 1,
   "metadata": {},
   "outputs": [],
   "source": [
    "file_path = \"/home/jovyan/work/data/raw/farmers-protest-tweets-2021-2-4.json\""
   ]
  },
  {
   "cell_type": "code",
   "execution_count": 3,
   "metadata": {},
   "outputs": [],
   "source": [
    "from pyspark.sql import SparkSession\n",
    "spark = SparkSession.builder.appName(\"FarmersProtestTweets\").getOrCreate()"
   ]
  },
  {
   "cell_type": "code",
   "execution_count": 11,
   "metadata": {},
   "outputs": [],
   "source": [
    "df = spark.read.json(file_path)"
   ]
  },
  {
   "cell_type": "markdown",
   "metadata": {},
   "source": [
    "### Selecting data to be stored in GCS"
   ]
  },
  {
   "cell_type": "code",
   "execution_count": 4,
   "metadata": {},
   "outputs": [],
   "source": [
    "df_transformed = df.select(['id', 'user.username', 'date', 'content'])"
   ]
  },
  {
   "cell_type": "markdown",
   "metadata": {},
   "source": [
    "### Transforming date to yyyy-mm-dd"
   ]
  },
  {
   "cell_type": "code",
   "execution_count": 5,
   "metadata": {},
   "outputs": [],
   "source": [
    "from pyspark.sql.functions import to_date\n",
    "\n",
    "\n",
    "# creating formated date column\n",
    "df_transformed = df_transformed.withColumn(\"date_transformed\", to_date(df_transformed[\"date\"]))\n",
    "df_transformed = df_transformed.drop(\"date\")\n",
    "\n",
    "# renaming column \"date_transformed\" to \"date\"\n",
    "df_transformed = df_transformed.withColumnRenamed(\"date_transformed\", \"date\")\n",
    "\n"
   ]
  },
  {
   "cell_type": "code",
   "execution_count": 6,
   "metadata": {},
   "outputs": [
    {
     "name": "stdout",
     "output_type": "stream",
     "text": [
      "root\n",
      " |-- id: long (nullable = true)\n",
      " |-- username: string (nullable = true)\n",
      " |-- content: string (nullable = true)\n",
      " |-- date: date (nullable = true)\n",
      "\n"
     ]
    }
   ],
   "source": [
    "df_transformed.printSchema()"
   ]
  },
  {
   "cell_type": "code",
   "execution_count": 12,
   "metadata": {},
   "outputs": [],
   "source": [
    "df_transformed_pandas = df_transformed.toPandas()"
   ]
  },
  {
   "cell_type": "code",
   "execution_count": 15,
   "metadata": {},
   "outputs": [],
   "source": [
    "spark.stop()"
   ]
  },
  {
   "cell_type": "code",
   "execution_count": 13,
   "metadata": {},
   "outputs": [],
   "source": [
    "import boto3\n",
    "import json\n",
    "from boto3.session import Session\n",
    "from botocore.client import Config"
   ]
  },
  {
   "cell_type": "code",
   "execution_count": 16,
   "metadata": {},
   "outputs": [],
   "source": [
    "#on secrets.json file\n",
    "\n",
    "ACCESS_KEY = \"\"\n",
    "SECRET_KEY = \"\""
   ]
  },
  {
   "cell_type": "code",
   "execution_count": 26,
   "metadata": {},
   "outputs": [],
   "source": [
    "session = Session(aws_access_key_id=ACCESS_KEY,\n",
    "                  aws_secret_access_key=SECRET_KEY)\n",
    "\n",
    "s3r = session.resource('s3', endpoint_url='https://storage.googleapis.com',\n",
    "                      config=Config(signature_version='s3v4'))\n",
    "\n",
    "client = session.client('s3', endpoint_url='https://storage.googleapis.com',\n",
    "                      config=Config(signature_version='s3v4'))"
   ]
  },
  {
   "cell_type": "code",
   "execution_count": 27,
   "metadata": {},
   "outputs": [],
   "source": [
    "bucket_name = 'latam-challenge-rtkseo-bucket'\n",
    "object_key = 'staging/farmers_protest_tweets_staging.csv'\n",
    "csv_data = df_transformed_pandas.to_csv(index=False, sep=\"~\")"
   ]
  },
  {
   "cell_type": "code",
   "execution_count": 28,
   "metadata": {},
   "outputs": [
    {
     "data": {
      "text/plain": [
       "{'ResponseMetadata': {'HTTPStatusCode': 200,\n",
       "  'HTTPHeaders': {'x-guploader-uploadid': 'ABPtcPqiQCZAtwyM8Ob7ru_FgokzXUdGZj4ZnWZ1xXAz_BGBT38M1CLmx6eq6hJeDeNWEglnCAI',\n",
       "   'etag': '\"38f5ebfc5207d42203d8215a1db068ee\"',\n",
       "   'x-goog-generation': '1698863736420839',\n",
       "   'x-goog-metageneration': '1',\n",
       "   'x-goog-hash': 'crc32c=sn8MNQ==, md5=OPXr/FIH1CID2CFaHbBo7g==',\n",
       "   'x-amz-checksum-crc32c': 'sn8MNQ==',\n",
       "   'x-goog-stored-content-length': '26964400',\n",
       "   'x-goog-stored-content-encoding': 'identity',\n",
       "   'vary': 'Origin',\n",
       "   'content-length': '0',\n",
       "   'date': 'Wed, 01 Nov 2023 18:35:36 GMT',\n",
       "   'server': 'UploadServer',\n",
       "   'content-type': 'text/html; charset=UTF-8',\n",
       "   'alt-svc': 'h3=\":443\"; ma=2592000,h3-29=\":443\"; ma=2592000'},\n",
       "  'RetryAttempts': 0},\n",
       " 'ETag': '\"38f5ebfc5207d42203d8215a1db068ee\"'}"
      ]
     },
     "execution_count": 28,
     "metadata": {},
     "output_type": "execute_result"
    }
   ],
   "source": [
    "client.put_object(Bucket=bucket_name, Key=object_key, Body=csv_data)"
   ]
  },
  {
   "cell_type": "code",
   "execution_count": null,
   "metadata": {},
   "outputs": [],
   "source": []
  }
 ],
 "metadata": {
  "kernelspec": {
   "display_name": "Python 3 (ipykernel)",
   "language": "python",
   "name": "python3"
  },
  "language_info": {
   "codemirror_mode": {
    "name": "ipython",
    "version": 3
   },
   "file_extension": ".py",
   "mimetype": "text/x-python",
   "name": "python",
   "nbconvert_exporter": "python",
   "pygments_lexer": "ipython3",
   "version": "3.11.6"
  }
 },
 "nbformat": 4,
 "nbformat_minor": 2
}
